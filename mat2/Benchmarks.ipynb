{
 "cells": [
  {
   "cell_type": "markdown",
   "metadata": {},
   "source": [
    "# Benchmarks for Simple Mat2 Multiply"
   ]
  },
  {
   "cell_type": "markdown",
   "metadata": {},
   "source": [
    "First lets load in our benchmark files generated from the C++ program"
   ]
  },
  {
   "cell_type": "code",
   "execution_count": 6,
   "metadata": {},
   "outputs": [],
   "source": [
    "import numpy as np\n",
    "\n",
    "files=['AVX2.txt','Normal.txt','Operator.txt','Prefetch.txt',\n",
    "       'SIMD.txt','Unroll.txt']\n",
    "\n",
    "timings={}\n",
    "\n",
    "for file in files :\n",
    "    dataFile=open(file,'r')\n",
    "    fileData=dataFile.readlines()\n",
    "    durations=[]\n",
    "    for i in fileData :\n",
    "        if 'Duration' in i :\n",
    "            data=i.split('\\t')\n",
    "            durations.append(int(data[1]))\n",
    "    col=file.split('.')\n",
    "    timings[col[0]]=durations\n"
   ]
  },
  {
   "cell_type": "markdown",
   "metadata": {},
   "source": [
    "Now we can do some data analysis on the times and see what happens"
   ]
  },
  {
   "cell_type": "code",
   "execution_count": 2,
   "metadata": {},
   "outputs": [
    {
     "data": {
      "text/html": [
       "<div>\n",
       "<style scoped>\n",
       "    .dataframe tbody tr th:only-of-type {\n",
       "        vertical-align: middle;\n",
       "    }\n",
       "\n",
       "    .dataframe tbody tr th {\n",
       "        vertical-align: top;\n",
       "    }\n",
       "\n",
       "    .dataframe thead th {\n",
       "        text-align: right;\n",
       "    }\n",
       "</style>\n",
       "<table border=\"1\" class=\"dataframe\">\n",
       "  <thead>\n",
       "    <tr style=\"text-align: right;\">\n",
       "      <th></th>\n",
       "      <th>AVX2</th>\n",
       "      <th>Normal</th>\n",
       "      <th>Operator</th>\n",
       "      <th>Prefetch</th>\n",
       "      <th>SIMD</th>\n",
       "      <th>Unroll</th>\n",
       "    </tr>\n",
       "  </thead>\n",
       "  <tbody>\n",
       "    <tr>\n",
       "      <th>count</th>\n",
       "      <td>1.048576e+06</td>\n",
       "      <td>1.048576e+06</td>\n",
       "      <td>1.048576e+06</td>\n",
       "      <td>1.048576e+06</td>\n",
       "      <td>1.048576e+06</td>\n",
       "      <td>1.048576e+06</td>\n",
       "    </tr>\n",
       "    <tr>\n",
       "      <th>mean</th>\n",
       "      <td>5.021271e+01</td>\n",
       "      <td>4.644901e+01</td>\n",
       "      <td>4.840798e+01</td>\n",
       "      <td>4.698374e+01</td>\n",
       "      <td>4.901817e+01</td>\n",
       "      <td>4.630492e+01</td>\n",
       "    </tr>\n",
       "    <tr>\n",
       "      <th>std</th>\n",
       "      <td>7.523006e+01</td>\n",
       "      <td>1.108855e+02</td>\n",
       "      <td>2.167037e+02</td>\n",
       "      <td>4.965014e+01</td>\n",
       "      <td>1.152047e+02</td>\n",
       "      <td>1.350511e+02</td>\n",
       "    </tr>\n",
       "    <tr>\n",
       "      <th>min</th>\n",
       "      <td>4.500000e+01</td>\n",
       "      <td>4.100000e+01</td>\n",
       "      <td>4.300000e+01</td>\n",
       "      <td>4.400000e+01</td>\n",
       "      <td>4.400000e+01</td>\n",
       "      <td>4.100000e+01</td>\n",
       "    </tr>\n",
       "    <tr>\n",
       "      <th>25%</th>\n",
       "      <td>4.600000e+01</td>\n",
       "      <td>4.300000e+01</td>\n",
       "      <td>4.400000e+01</td>\n",
       "      <td>4.400000e+01</td>\n",
       "      <td>4.400000e+01</td>\n",
       "      <td>4.300000e+01</td>\n",
       "    </tr>\n",
       "    <tr>\n",
       "      <th>50%</th>\n",
       "      <td>4.600000e+01</td>\n",
       "      <td>4.300000e+01</td>\n",
       "      <td>4.400000e+01</td>\n",
       "      <td>4.500000e+01</td>\n",
       "      <td>4.500000e+01</td>\n",
       "      <td>4.300000e+01</td>\n",
       "    </tr>\n",
       "    <tr>\n",
       "      <th>75%</th>\n",
       "      <td>5.900000e+01</td>\n",
       "      <td>4.600000e+01</td>\n",
       "      <td>4.500000e+01</td>\n",
       "      <td>4.500000e+01</td>\n",
       "      <td>4.500000e+01</td>\n",
       "      <td>4.400000e+01</td>\n",
       "    </tr>\n",
       "    <tr>\n",
       "      <th>90%</th>\n",
       "      <td>5.900000e+01</td>\n",
       "      <td>5.200000e+01</td>\n",
       "      <td>5.700000e+01</td>\n",
       "      <td>5.700000e+01</td>\n",
       "      <td>5.800000e+01</td>\n",
       "      <td>5.400000e+01</td>\n",
       "    </tr>\n",
       "    <tr>\n",
       "      <th>99%</th>\n",
       "      <td>6.600000e+01</td>\n",
       "      <td>6.600000e+01</td>\n",
       "      <td>6.700000e+01</td>\n",
       "      <td>5.800000e+01</td>\n",
       "      <td>7.000000e+01</td>\n",
       "      <td>6.600000e+01</td>\n",
       "    </tr>\n",
       "    <tr>\n",
       "      <th>99.9%</th>\n",
       "      <td>7.000000e+01</td>\n",
       "      <td>6.700000e+01</td>\n",
       "      <td>1.030000e+02</td>\n",
       "      <td>7.200000e+01</td>\n",
       "      <td>1.080000e+02</td>\n",
       "      <td>9.500000e+01</td>\n",
       "    </tr>\n",
       "    <tr>\n",
       "      <th>max</th>\n",
       "      <td>6.782900e+04</td>\n",
       "      <td>3.370900e+04</td>\n",
       "      <td>9.110100e+04</td>\n",
       "      <td>2.622200e+04</td>\n",
       "      <td>5.424000e+04</td>\n",
       "      <td>6.542200e+04</td>\n",
       "    </tr>\n",
       "  </tbody>\n",
       "</table>\n",
       "</div>"
      ],
      "text/plain": [
       "               AVX2        Normal      Operator      Prefetch          SIMD  \\\n",
       "count  1.048576e+06  1.048576e+06  1.048576e+06  1.048576e+06  1.048576e+06   \n",
       "mean   5.021271e+01  4.644901e+01  4.840798e+01  4.698374e+01  4.901817e+01   \n",
       "std    7.523006e+01  1.108855e+02  2.167037e+02  4.965014e+01  1.152047e+02   \n",
       "min    4.500000e+01  4.100000e+01  4.300000e+01  4.400000e+01  4.400000e+01   \n",
       "25%    4.600000e+01  4.300000e+01  4.400000e+01  4.400000e+01  4.400000e+01   \n",
       "50%    4.600000e+01  4.300000e+01  4.400000e+01  4.500000e+01  4.500000e+01   \n",
       "75%    5.900000e+01  4.600000e+01  4.500000e+01  4.500000e+01  4.500000e+01   \n",
       "90%    5.900000e+01  5.200000e+01  5.700000e+01  5.700000e+01  5.800000e+01   \n",
       "99%    6.600000e+01  6.600000e+01  6.700000e+01  5.800000e+01  7.000000e+01   \n",
       "99.9%  7.000000e+01  6.700000e+01  1.030000e+02  7.200000e+01  1.080000e+02   \n",
       "max    6.782900e+04  3.370900e+04  9.110100e+04  2.622200e+04  5.424000e+04   \n",
       "\n",
       "             Unroll  \n",
       "count  1.048576e+06  \n",
       "mean   4.630492e+01  \n",
       "std    1.350511e+02  \n",
       "min    4.100000e+01  \n",
       "25%    4.300000e+01  \n",
       "50%    4.300000e+01  \n",
       "75%    4.400000e+01  \n",
       "90%    5.400000e+01  \n",
       "99%    6.600000e+01  \n",
       "99.9%  9.500000e+01  \n",
       "max    6.542200e+04  "
      ]
     },
     "execution_count": 2,
     "metadata": {},
     "output_type": "execute_result"
    }
   ],
   "source": [
    "import pandas as pd\n",
    "#import matplotlib as plt\n",
    "import matplotlib.pyplot as plt\n",
    "\n",
    "%matplotlib inline\n",
    "\n",
    "df=pd.DataFrame(data=timings)\n",
    "df.describe(percentiles=[.25, .5, .75, 0.9, 0.99, 0.999])\n"
   ]
  },
  {
   "cell_type": "code",
   "execution_count": 7,
   "metadata": {},
   "outputs": [
    {
     "data": {
      "text/plain": [
       "Text(0.0, 0.5, 'Number of Samples')"
      ]
     },
     "execution_count": 7,
     "metadata": {},
     "output_type": "execute_result"
    },
    {
     "data": {
      "image/png": "[encoded data removed]",
      "text/plain": [
       "<Figure size 1440x720 with 6 Axes>"
      ]
     },
     "metadata": {
      "needs_background": "light"
     },
     "output_type": "display_data"
    }
   ],
   "source": [
    "S = df\n",
    "# keep only the ones that are within +3 to -3 standard deviations  \n",
    "S=  S[~((S-S.mean()).abs() > 3*S.std())]\n",
    "\n",
    "ndf = pd.DataFrame(data=S)\n",
    "# set up figure & axes\n",
    "fig, axes = plt.subplots(nrows=1, ncols=6, sharex=False, sharey=False,\n",
    "                        figsize=(20, 10))\n",
    "\n",
    "\n",
    "ndf.hist(grid=True,  bins=100,ax=axes )\n",
    "plt.suptitle('Benchmarks', x=0.5, y=1.05, ha='center', fontsize='xx-large')\n",
    "fig.text(0.5, 0.0, 'Time in nS', ha='center')\n",
    "fig.text(0.0, 0.5, 'Number of Samples', va='center', rotation='vertical')\n"
   ]
  },
  {
   "cell_type": "code",
   "execution_count": null,
   "metadata": {},
   "outputs": [],
   "source": []
  }
 ],
 "metadata": {
  "kernelspec": {
   "display_name": "Python 3",
   "language": "python",
   "name": "python3"
  },
  "language_info": {
   "codemirror_mode": {
    "name": "ipython",
    "version": 3
   },
   "file_extension": ".py",
   "mimetype": "text/x-python",
   "name": "python",
   "nbconvert_exporter": "python",
   "pygments_lexer": "ipython3",
   "version": "3.7.1"
  }
 },
 "nbformat": 4,
 "nbformat_minor": 2
}
